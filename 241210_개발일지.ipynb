{
  "nbformat": 4,
  "nbformat_minor": 0,
  "metadata": {
    "colab": {
      "provenance": [],
      "authorship_tag": "ABX9TyNo/xnbz+Pylp/zsaDqUb8U",
      "include_colab_link": true
    },
    "kernelspec": {
      "name": "python3",
      "display_name": "Python 3"
    },
    "language_info": {
      "name": "python"
    }
  },
  "cells": [
    {
      "cell_type": "markdown",
      "metadata": {
        "id": "view-in-github",
        "colab_type": "text"
      },
      "source": [
        "<a href=\"https://colab.research.google.com/github/acts701/LLM/blob/main/241210_%EA%B0%9C%EB%B0%9C%EC%9D%BC%EC%A7%80.ipynb\" target=\"_parent\"><img src=\"https://colab.research.google.com/assets/colab-badge.svg\" alt=\"Open In Colab\"/></a>"
      ]
    },
    {
      "cell_type": "markdown",
      "source": [
        "# Clova Speech\n",
        "- https://api.ncloud-docs.com/docs/ai-application-service-clovaspeech-example01\n",
        "- req_object_storage를 이용했음\n",
        "- domain에서 화자 인식을 off로 하고 diarization=False로 뒀더니 parameter error 계속 발생함.\n",
        "    - 이 과정에서 naver에 기술 문의를 했지만 코드리뷰는 안해준다고 함\n",
        "- domaind 생성할 때 화자 인식을 on으로 설정하니 문제가 해결됨.\n",
        "    - 그럼 왜 처음부터 off? 결국 과금. 이것도 추가 요금이 붙는다.\n",
        "\n",
        "# Results\n",
        "- Post 던지고 response는 clova outputstorage로 받게 뒀다.\n",
        "- 결과는 denied;;\n",
        "``` xml\n",
        "<Error>\n",
        "    <Code>AccessDenied</Code>\n",
        "    <Message>Access Denied</Message>\n",
        "    <Resource>/teststorages/teststorages:160601_Isaiah01.mp3_ed1d0c4722be40eb8df87bd1e61eaee3.json</Resource>\n",
        "    <RequestId>083d1c4d-47e4-416f-8baa-a36f402a1911</RequestId>\n",
        "    <httpStatusCode>403</httpStatusCode>\n",
        "</Error>\n",
        "```\n",
        "- console에서 모든 권한을 on으로 뒀는데 원인을 모르겠다.\n",
        "\n",
        "# ACL (Access Control List)\n",
        "- https://api.ncloud-docs.com/docs/ko/storage-objectstorage-putbucketacl\n",
        "- 덕분에 ACL 이라는 것을 알게 되었다.\n",
        "- ACL은 Access Control List의 약어로, 자원에 대한 접근 권한을 제어하는 리스트를 의미합니다.\n",
        "    - 네이버 클라우드 플랫폼(Object Storage)이나 AWS S3 같은 서비스에서 ACL은 객체나 버킷에 대한 읽기, 쓰기, 삭제 등의 권한을 설정하는 데 사용됩니다.\n",
        "``` html\n",
        "PUT https://{endpoint}/{bucket-name}?acl= # path style\n",
        "PUT https://{bucket-name}.{endpoint}?acl= # virtual host style\n",
        "```\n",
        "- 간단하게 put만 하면 될 것 같은데 모바일 환경이어서 그런지 front를 잘 몰라서 그런지 chat 선생이 코드를 잔뜩 준다.\n",
        "- 또한 갑자기 AWS가 왜 나오는지 의아했지만 \"AWS Signature Version 4를 사용하여 생성된 인증 정보가 포함되어야 합니다.\" 라고 한다.\n",
        "- 결론은 ACL 인증이 안됨. 이쪽 분야를 거의 모르는 상태에서 gpt가 코드 준다고 복붙해서 되는 것은 한계가 명확하다.\n",
        "``` bash\n",
        "ACL 설정 실패: 403\n",
        "응답 내용: <?xml version=\"1.0\" encoding=\"UTF-8\" standalone=\"yes\"?><Error><Code>SignatureDoesNotMatch</Code><Message>The request signature we calculated does not match the signature you provided. Check your AWS Secret Access Key and signing method. For more information\n",
        "```"
      ],
      "metadata": {
        "id": "59OvRvBpXUwc"
      }
    }
  ]
}