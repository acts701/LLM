{
  "nbformat": 4,
  "nbformat_minor": 0,
  "metadata": {
    "colab": {
      "provenance": [],
      "authorship_tag": "ABX9TyMZNzaWapMyD2WrkxK2ch/T",
      "include_colab_link": true
    },
    "kernelspec": {
      "name": "python3",
      "display_name": "Python 3"
    },
    "language_info": {
      "name": "python"
    }
  },
  "cells": [
    {
      "cell_type": "markdown",
      "metadata": {
        "id": "view-in-github",
        "colab_type": "text"
      },
      "source": [
        "<a href=\"https://colab.research.google.com/github/acts701/LLM/blob/main/240116_%EA%B0%9C%EB%B0%9C%EC%9D%BC%EC%A7%80_vectorDB.ipynb\" target=\"_parent\"><img src=\"https://colab.research.google.com/assets/colab-badge.svg\" alt=\"Open In Colab\"/></a>"
      ]
    },
    {
      "cell_type": "markdown",
      "source": [
        "# 영어로 vector 저장\n",
        "- vector 저장하기 전 gpt 한테 번역 요청해서 국문/영문 둘 다 저장\n",
        "- 조회할 때도 gpt 한테 번역 요청한 것으로 query 날림\n",
        "- model 바꿔서 시도해봄\n",
        "    - jhgan/ko-sbert-multitask\n",
        "- dimension도 storage 생각해서 768 index 변경\n",
        "```python\n",
        "query_text = \"이사야가 본 말씀\"\n",
        "검색 결과:\n",
        "ID: SA_1_1_9.txt-2, Score: 0.729228616, Original Text: 이사야 1장 1절입니다, Translated Text: Isaiah 1:1\n",
        "ID: SA_1_21_31.txt-5, Score: 0.701023519, Original Text: 그러므로 주 만군의 여호와 이스라엘의 전능자가 말씀하시되 슬프다., Translated Text: Therefore, the Lord, the God of Hosts, the Mighty One of Israel, declares, \"Woe to you.\"\n",
        "```\n",
        "- score와 결과를 보면 전혀 동작하지 않고 있다.\n",
        "- embedding 문제일까, index query 문제일까.."
      ],
      "metadata": {
        "id": "8O54UBleCEGq"
      }
    }
  ]
}