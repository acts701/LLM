{
  "nbformat": 4,
  "nbformat_minor": 0,
  "metadata": {
    "colab": {
      "provenance": [],
      "authorship_tag": "ABX9TyPTup+VvLJwwDGmkIZHniJ8",
      "include_colab_link": true
    },
    "kernelspec": {
      "name": "python3",
      "display_name": "Python 3"
    },
    "language_info": {
      "name": "python"
    }
  },
  "cells": [
    {
      "cell_type": "markdown",
      "metadata": {
        "id": "view-in-github",
        "colab_type": "text"
      },
      "source": [
        "<a href=\"https://colab.research.google.com/github/acts701/LLM/blob/main/250211_%EA%B0%9C%EB%B0%9C%EC%9D%BC%EC%A7%80.ipynb\" target=\"_parent\"><img src=\"https://colab.research.google.com/assets/colab-badge.svg\" alt=\"Open In Colab\"/></a>"
      ]
    },
    {
      "cell_type": "markdown",
      "source": [
        "# Label data\n",
        "- 현재의 상황 정리\n",
        "- 설교 원문 txt file 있음. 8천개 정도의 단어\n",
        "- 각 설교 파일 당 중요한 질문들이 정리된 json file이 있음\n",
        "- GPT api를 이용해서 txt 첨부 후 json 형태의 질문에 대한 답을 찾았음\n",
        "- bert 학습 시키려고 보니 이렇게 생성된 데이터는 label 데이터로 가치가 없었음\n",
        "    - 내 삽질과 api cost ;;;\n",
        "    - 공부 좀 하고 진행할껄.. 정확한 정답 위치와 워딩이 필요함\n",
        "    - bert fine tunning이 크게 4가지 정도로 소개되던데 이 중에서 SQuAD로 접근하고 있음\n",
        "- chat gpt가 이 정도는 당연히 알려주겠지 싶었지만 왠걸... 어림도 없었음\n",
        "    > 업로드된 파일에서 예상한 답변이 정확히 일치하는 위치를 찾을 수 없습니다.\n",
        "텍스트의 일부가 다르거나 줄바꿈 등의 이유로 find()가 실패했을 가능성이 있습니다.\n",
        "더 정확한 매칭을 위해 유사한 문장을 검색하여 다시 확인해보겠습니다. ​​파일 내에서 해당 질문에 대한 정확한 답변을 찾을 수 없었습니다.\n",
        "    - find 라니 ㅜㅜ\n",
        "- 즉 label data를 일일이 다 생성해야 한다는 것이다!!\n",
        "    - 어떻게 방법이 없을까\n",
        "    - 의미론적으로 검색하는 모델이 이미 존재할 것 같은데..."
      ],
      "metadata": {
        "id": "zXUsjkf0KRvK"
      }
    }
  ]
}