{
  "nbformat": 4,
  "nbformat_minor": 0,
  "metadata": {
    "colab": {
      "provenance": [],
      "authorship_tag": "ABX9TyMTlvzwgXYKxx7kMU+QUlhk",
      "include_colab_link": true
    },
    "kernelspec": {
      "name": "python3",
      "display_name": "Python 3"
    },
    "language_info": {
      "name": "python"
    }
  },
  "cells": [
    {
      "cell_type": "markdown",
      "metadata": {
        "id": "view-in-github",
        "colab_type": "text"
      },
      "source": [
        "<a href=\"https://colab.research.google.com/github/acts701/LLM/blob/main/241124_%EA%B0%9C%EB%B0%9C%EC%9D%BC%EC%A7%80.ipynb\" target=\"_parent\"><img src=\"https://colab.research.google.com/assets/colab-badge.svg\" alt=\"Open In Colab\"/></a>"
      ]
    },
    {
      "cell_type": "markdown",
      "source": [
        "# Pinecone\n",
        "- vector db에서 처음 추천받은 클라우드 플랫폼\n",
        "- 요즘은 플랫폼에서 계정 생성하고 api key 받고 코드에서 인증받는 방식이 정석인 것 같다.\n",
        "- 플랫폼에서 사용 내역을 모두 로깅하고 당연히 과금으로 연결된다.\n",
        "- 처음 index는 플랫폼에서 만들고 코드에서 region 등의 정보로 call을 하낟.\n",
        "- 어제 잘 안된 이유는 index 만들 때 설정했던 모델이 있는데 거기에 따라서 dimensions가 결정된다. embedding model의 dimensions과 동일한 것을 사용해야지 vector가 생성된다.\n",
        "- 그 전에 input text를 embedding model을 이용해서 vector 형식으로 json file로 만든다.\n",
        "- 그 다음에 index.upsert를 이용해서 json의 vector를 플랫폼으로 upload 해서 거기서 index.query 이렇게 날리는데 결국 local에서 할 수 있는건 없는 것 같다. 플랫폼으로 index와 vector까지 모두 올려서 거기서 처리하게 하는 듯.\n",
        "- 아무튼 query를 날렸는데 아직 10개 파일만 올려서 그런지 결과가 애매하다.\n",
        "- query : 도적들\n",
        "- 검색 결과:\n",
        "    - ID: 8-450, Score: 0.943972, Text: 사람들.\n",
        "    - ID: 7-450, Score: 0.943972, Text: 사람들.\n",
        "    - ID: 2-884, Score: 0.943972, Text: 사람들.\n",
        "    - ID: 1-153, Score: 0.934165835, Text: 성도입니다\n",
        "    - ID: 6-115, Score: 0.927694559, Text: 사람들이."
      ],
      "metadata": {
        "id": "eYSvBe6ayKwE"
      }
    }
  ]
}
