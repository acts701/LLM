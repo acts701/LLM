{
  "nbformat": 4,
  "nbformat_minor": 0,
  "metadata": {
    "colab": {
      "provenance": [],
      "authorship_tag": "ABX9TyMw7Zb9Tm5Q3XcCSqAO5L6u",
      "include_colab_link": true
    },
    "kernelspec": {
      "name": "python3",
      "display_name": "Python 3"
    },
    "language_info": {
      "name": "python"
    }
  },
  "cells": [
    {
      "cell_type": "markdown",
      "metadata": {
        "id": "view-in-github",
        "colab_type": "text"
      },
      "source": [
        "<a href=\"https://colab.research.google.com/github/acts701/LLM/blob/main/241121_%EA%B0%9C%EB%B0%9C%EC%9D%BC%EC%A7%80.ipynb\" target=\"_parent\"><img src=\"https://colab.research.google.com/assets/colab-badge.svg\" alt=\"Open In Colab\"/></a>"
      ]
    },
    {
      "cell_type": "markdown",
      "source": [
        "# 유료 버전 체감\n",
        "- google speech v2 api 사용함\n",
        "- v1 보다 가격이 down 되었다. 분당 0.016$. 오늘 환율로 22.34원 정도\n",
        "    - https://cloud.google.com/speech-to-text/pricing?hl=ko\n",
        "    - v1은 0.02$ 정도였던듯\n",
        "- 전에는 (멍청하게) Google cloud web에다가 mp3 file을 직접 넣어서 text로 변환했더니 2천원 정도 나왔었다.\n",
        "- 참조 site : https://cloud.google.com/speech-to-text/v2/docs/batch-recognize?hl=ko\n",
        "    - sample script의 timeout 지워야한다.\n",
        "- API 사용 가격은 아직 update 되지 않은 건지 잘 모르겠다.\n",
        "    - 나중에 확인해 봐야함\n",
        "- <img src="https://drive.google.com/uc?id=1CgMJNSJcba_QBg_77ATgrhqhXpon_BRI\" width=\"360\" height=\"320\">\n",
        "\n",
        "# Google Cloud를 써야 한다.\n",
        "- colab에서 api call을 하려면 google cloud를 사용해야 한다.\n",
        "- 즉 로컬 파일을 읽어오거나 google drive 쓰거나 이거 안된다.\n",
        "    - 다른 방법이 있으려나?\n",
        "- Google cloud에 bucket이란걸 생성해서 거기에다가 파일을 넣어야 동작한다.\n",
        "    - Google cloud에 저장하는 것도 또 과금이다.. ㅜ\n",
        "- 암튼 bucket 내 file을 넣으면 URI가 생기는데 이걸 넣어줘야 동작한다.\n",
        "\n",
        "# 결과 비교\n",
        "- 우선 script가 너무 길어서 무료인 OpenAI Whisper로 돌린 것과 비교가 어렵지만 얼핏 보아도 인식률이 아주 높다.\n",
        "- API와 Cloud 과금되는거 보고 결정해야한다.\n",
        "\n",
        "# 인증\n",
        "- 가장 시간이 많이 걸린건 인증 과정\n",
        "- api key를 넣으면 깔끔할 것 같은데 뭔가 해야 할게 많다.\n",
        "``` bash\n",
        "!gcloud init --skip-diagnostics\n",
        "!gcloud auth application-default login\n",
        "!gcloud storage buckets add-iam-policy-binding gs://{bucket name} \\ --member=serviceAccount:service-{pj id}@gcp-sa-speech.iam.gserviceaccount.com \\ --role=roles/storage.admin\n",
        "```    \n",
        "- 이렇게 번거롭게 하지 않고 key 인증만 하는 방법을 찾아봐야한다.\n",
        "- colab의 \"보안 비밀\" 기능 유용하다.\n",
        "``` python\n",
        "from google.colab import userdata\n",
        "credentials = userdata.get('keyname')\n",
        "```\n",
        "- 이 키는 당연히 google cloud에서 json으로 받은 내 프로젝트의 key\n",
        "    - 이걸 어디 저장해 두기도 애매한데 colab에 기능이 있음"
      ],
      "metadata": {
        "id": "kkIOstf3Ac_4"
      }
    }
  ]
}
