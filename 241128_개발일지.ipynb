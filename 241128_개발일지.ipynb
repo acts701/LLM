{
  "nbformat": 4,
  "nbformat_minor": 0,
  "metadata": {
    "colab": {
      "provenance": [],
      "authorship_tag": "ABX9TyMr5uT8Bsg8vnM2Oo6zBv72",
      "include_colab_link": true
    },
    "kernelspec": {
      "name": "python3",
      "display_name": "Python 3"
    },
    "language_info": {
      "name": "python"
    }
  },
  "cells": [
    {
      "cell_type": "markdown",
      "metadata": {
        "id": "view-in-github",
        "colab_type": "text"
      },
      "source": [
        "<a href=\"https://colab.research.google.com/github/acts701/LLM/blob/main/241128_%EA%B0%9C%EB%B0%9C%EC%9D%BC%EC%A7%80.ipynb\" target=\"_parent\"><img src=\"https://colab.research.google.com/assets/colab-badge.svg\" alt=\"Open In Colab\"/></a>"
      ]
    },
    {
      "cell_type": "markdown",
      "source": [
        "# Clova Speech\n",
        "- Cloud에서 domain 생성할 ㄸ \"화자 인식\" 이라때 옵션이 있는데 유료이다. 아마 다중 화자가 있을 때 각 화자를 인식하는때 기능인 것 같은데 나는 필요하지 않아서 disbled로 했다.\n",
        "- 그런데 이걸 API로 call 하니 문제가 된다.\n",
        "``` bash\n",
        "{\"result\":\"ERROR_REQUEST_PARAMETER\",\"message\":\"speaker detect is off\",\"timestamp\":1732636796152}\n",
        "```\n",
        "- api doc\n",
        "    - https://api.ncloud-docs.com/docs/ai-application-service-clovaspeech-longsentence\n",
        "- 예제 코드에는 diarization=None 이라고 되어 있는데 API 문서를 보니 True, False 중 하나로 선택되어야 하고 따로 명시하지 않으면 True라고 한다.\n",
        "    - 고객센터에 문의\n",
        "- 그래서 False로 변경하고 다시 해보니 다른 에러 나와서 다시 문의함\n",
        "``` bash\n",
        "{\"result\":\"ERROR_REQUEST_PARAMETER\",\"message\":\"JSON parse error: Cannot construct instance of `com.nbp.cdncp.nest.model.nest.NestDiarizationParams`\n",
        "(although at least one Creator exists): no boolean/Boolean-argument constructor/factory method to deserialize from boolean value (false); nested exception is\n",
        "com.fasterxml.jackson.databind.exc.MismatchedInputException: Cannot construct instance of `com.nbp.cdncp.nest.model.nest.NestDiarizationParams`\n",
        "(although at least one Creator exists): no boolean/Boolean-argument constructor/factory method to deserialize from boolean value (false)\\n at\n",
        "Source: (PushbackInputStream); line: 1, column: 255] (through reference chain: com.nbp.cdncp.nest.model.external.CustomTaskFromUrlRequest[\\\"diarization\\\"])\",\"timestamp\":1732772834274}\n",
        "```\n",
        "\n",
        "# vector db\n",
        "- Pinecone이 좋긴 한데 가급적 상용 플랫폼은 최후의 수단으로 써보자\n",
        "- 일단 vector json으로 다 생성해두고 pre trained model 가져와서 학습 시킬 예정\n",
        "- 다만 colab computing이 거의 바닥남;;\n",
        "    - 이런 저런 삽질을 하긴 했지만 역시 전용 resource가 없으니 눈치가 상당히 보인다."
      ],
      "metadata": {
        "id": "MqDT39Ws3ChV"
      }
    }
  ]
}