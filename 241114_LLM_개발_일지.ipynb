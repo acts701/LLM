{
  "nbformat": 4,
  "nbformat_minor": 0,
  "metadata": {
    "colab": {
      "provenance": [],
      "authorship_tag": "ABX9TyOMKQ3d5YXzJCTestnnhc1a",
      "include_colab_link": true
    },
    "kernelspec": {
      "name": "python3",
      "display_name": "Python 3"
    },
    "language_info": {
      "name": "python"
    }
  },
  "cells": [
    {
      "cell_type": "markdown",
      "metadata": {
        "id": "view-in-github",
        "colab_type": "text"
      },
      "source": [
        "<a href=\"https://colab.research.google.com/github/acts701/LLM/blob/main/241114_LLM_%EA%B0%9C%EB%B0%9C_%EC%9D%BC%EC%A7%80.ipynb\" target=\"_parent\"><img src=\"https://colab.research.google.com/assets/colab-badge.svg\" alt=\"Open In Colab\"/></a>"
      ]
    },
    {
      "cell_type": "markdown",
      "source": [
        "# 24.11.14\n",
        "- 진작 작성했어야 하는데 commit에만 간단히 적어두고 개발 history를 남기지 않았다.\n",
        "- 현재까지 진행된 내용은 데이터 준비\n",
        "\n",
        "# Action Item\n",
        "- 성능 평가를 어느 정도까지 해야 할까?\n",
        "- 이 상태로 학습으로 넘어가도 되는 것일까?\n",
        "\n",
        "# voice to text\n",
        "- 한국어로 녹음된 mp3 file을 text로 남기는 것\n",
        "- 처음에는 google.cloud > speech_v1p1beta1을 사용했음\n",
        "    - 유료. 대략 1시간 100mb를 변환하는데 2천원 정도.\n",
        "    - 성능은 100%는 아니지만 좋음\n",
        "- OpenAI의 Whisper를 사용한 결과도 좋음\n",
        "    - 물론 인식이 안되는 case 많음\n",
        "- 성능 평가를 어느 정도까지 해야 할까?\n",
        "\n",
        "# 간략한 성능 평가\n",
        "- 원문 (이사야 1:4)\n",
        "    - 슬프다 범죄한 나라요 허물 진 백성이요 행악의 종자요 행위가 부패한 자식이로다 그들이 여호와를 버리며 이스라엘의 거룩하신 이를 만홀히 여겨 멀리하고 물러갔도다\n",
        "- google paid\n",
        "    - 슬프다 범죄한 알아요 허물진 백성이요 행하게 종자요 행위가 부패한 자식이로다 그들이 여호와를 버리며 이스라엘의 거룩한 자를 마노리 여겨 멀리하고 물러가도다\n",
        "- openai whisper\n",
        "    - 슬프다 범죄한 나라요. 험을 진 백성이오. 행하게 종자요. 행위가 부편 자식이로다. 그들이 요화를 버리면 이스라엘의 거루한사를 만울이 여겨 멀리하고 물러가듯다.\n",
        "- 평가\n",
        "    - 역시 유료 service가 좋은 것 같다.\n",
        "        - 예를 들어 '여호와' 라는 단어를 '요화'로 잘못 인식하면 결과에 영향이 클 것이다.\n",
        "    - 그렇다고 openai가 아주 못 쓸 정도는 아니다.\n",
        "    - '만홀히' 같이 비교적 어려운 단어는 두 모델 모두 인식을 하지 못한다.\n",
        "        - 이 상태로 학습으로 넘어가도 되는 것일까?"
      ],
      "metadata": {
        "id": "etpr6n21TsEx"
      }
    }
  ]
}