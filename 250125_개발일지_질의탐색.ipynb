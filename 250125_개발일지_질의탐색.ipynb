{
  "nbformat": 4,
  "nbformat_minor": 0,
  "metadata": {
    "colab": {
      "provenance": [],
      "authorship_tag": "ABX9TyPUdGt2bnZvljfk+nB5/Nl4",
      "include_colab_link": true
    },
    "kernelspec": {
      "name": "python3",
      "display_name": "Python 3"
    },
    "language_info": {
      "name": "python"
    }
  },
  "cells": [
    {
      "cell_type": "markdown",
      "metadata": {
        "id": "view-in-github",
        "colab_type": "text"
      },
      "source": [
        "<a href=\"https://colab.research.google.com/github/acts701/LLM/blob/main/250125_%EA%B0%9C%EB%B0%9C%EC%9D%BC%EC%A7%80_%EC%A7%88%EC%9D%98%ED%83%90%EC%83%89.ipynb\" target=\"_parent\"><img src=\"https://colab.research.google.com/assets/colab-badge.svg\" alt=\"Open In Colab\"/></a>"
      ]
    },
    {
      "cell_type": "markdown",
      "source": [
        "# 대답 찾기\n",
        "- json 형태로 질문을 모두 정리하였음.\n",
        "- 각 질문에 대한 정답을 text에서 찾아야 한다.\n",
        "- 아래는 각 시도들 기록\n",
        "\n",
        "# sentence-transformers/all-MiniLM-L6-v2\n",
        "- not good\n",
        "> \"section_id\": \"4\",\n",
        "        \"section_title\": \"한 줄기 소망\",\n",
        "        \"questions\": [\n",
        "            {\n",
        "                \"question\": \"이들이 겨우 남을 수 있었던 이유는 순전히 무엇 때문입니까? (9 상)\",\n",
        "                \"answer\": \" 잘 안 된다는 것이죠  그리고 우리가 겪는 일상생활에서 겪는이 어려움들 해결이 잘 안 된다는 것입니다\n",
        "\n",
        "# sentence-transformers/multi-qa-mpnet-base-dot-v1\n",
        "- not good\n",
        "> \"section_id\": \"4\",\n",
        "        \"section_title\": \"한 줄기 소망\",\n",
        "        \"questions\": [\n",
        "            {\n",
        "                \"question\": \"이들이 겨우 남을 수 있었던 이유는 순전히 무엇 때문입니까? (9 상)\",\n",
        "                \"answer\": \"이사야서 구약 성경 이사야서  97에 968쪽 정도 됩니다  1장 1절부터 9절입니다\",\n",
        "                \"score\": 0.7562283277511597\n",
        "\n",
        "# sentence-transformers/xlm-r-100langs-bert-base-nli-stsb-mean-tokens\n",
        "- not good\n",
        "> \"section_id\": \"4\",\n",
        "        \"section_title\": \"한 줄기 소망\",\n",
        "        \"questions\": [\n",
        "            {\n",
        "                \"question\": \"이들이 겨우 남을 수 있었던 이유는 순전히 무엇 때문입니까? (9 상)\",\n",
        "                \"answer\": \"No suitable match found\",\n",
        "                \"score\": 0\n",
        "            },           \n",
        "\n",
        "# 방향 설정 필요\n",
        "- sentence의 유사도로 어떻게 해보려는 시도는 전혀 먹히지 않는다.\n",
        "- pre train 된 모델을 이용해서 fine tunning 방식으로 할까\n",
        "- 아니면 그냥 chat gpt에게 전부 다 던져주고 대답만 전달해 줄까?\n",
        "    - 이럴 경우 사용자가 몇 장 몇 절 내용인지 항상 적어줘야 해서 안될 듯\n",
        "- 질의 보다는 처음에는 요약 정도로 접근할까?\n",
        "- 생각보다 잘 안되니 편한 길을 찾게 되는거 아닌가 고민이 된다."
      ],
      "metadata": {
        "id": "z3qrAd9T_9cR"
      }
    }
  ]
}