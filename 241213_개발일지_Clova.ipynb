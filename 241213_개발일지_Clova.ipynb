{
  "nbformat": 4,
  "nbformat_minor": 0,
  "metadata": {
    "colab": {
      "provenance": [],
      "authorship_tag": "ABX9TyMTzh21L0huKgRAad7JVRXp",
      "include_colab_link": true
    },
    "kernelspec": {
      "name": "python3",
      "display_name": "Python 3"
    },
    "language_info": {
      "name": "python"
    }
  },
  "cells": [
    {
      "cell_type": "markdown",
      "metadata": {
        "id": "view-in-github",
        "colab_type": "text"
      },
      "source": [
        "<a href=\"https://colab.research.google.com/github/acts701/LLM/blob/main/241213_%EA%B0%9C%EB%B0%9C%EC%9D%BC%EC%A7%80.ipynb\" target=\"_parent\"><img src=\"https://colab.research.google.com/assets/colab-badge.svg\" alt=\"Open In Colab\"/></a>"
      ]
    },
    {
      "cell_type": "markdown",
      "source": [
        "# Naver Clova\n",
        "- object storage로 결과를 받는 방식은 원인 모를 권한 문제로 실패\n",
        "- colab file upload 하고 sync로 코드에서 결과 받는 방식으로 해결함\n",
        "``` python\n",
        "import requests\n",
        "import json\n",
        "class ClovaSpeechClient:\n",
        "    # Clova Speech invoke URL (앱 등록 시 발급받은 Invoke URL)\n",
        "    invoke_url = userdata.get(\"CLOVA_INVOKE_URL\")\n",
        "    # Clova Speech secret key (앱 등록 시 발급받은 Secret Key)\n",
        "    secret = userdata.get(\"CLOVA_SECRET_KEY\")\n",
        "    def req_upload(self, file, completion, callback=None, userdata=None, forbiddens=None, boostings=None,\n",
        "                   wordAlignment=True, fullText=True, diarization=None, sed=None):\n",
        "        request_body = {\n",
        "            'language': 'ko-KR',\n",
        "            'completion': completion,\n",
        "            'callback': callback,\n",
        "            'userdata': userdata,\n",
        "            'wordAlignment': wordAlignment,\n",
        "            'fullText': fullText,\n",
        "            'forbiddens': forbiddens,\n",
        "            'boostings': boostings,\n",
        "            'diarization': diarization,\n",
        "            'sed': sed,\n",
        "        }\n",
        "        headers = {\n",
        "            'Accept': 'application/json;UTF-8',\n",
        "            'X-CLOVASPEECH-API-KEY': self.secret\n",
        "        }\n",
        "        print(json.dumps(request_body, ensure_ascii=False).encode('UTF-8'))\n",
        "        files = {\n",
        "            'media': open(file, 'rb'),\n",
        "            'params': (None, json.dumps(request_body, ensure_ascii=False).encode('UTF-8'), 'application/json')\n",
        "        }\n",
        "        response = requests.post(headers=headers, url=self.invoke_url + '/recognizer/upload', files=files)\n",
        "        return response\n",
        "if __name__ == '__main__':\n",
        "    res = ClovaSpeechClient().req_upload(file=audio_file_path, completion='sync')\n",
        "    print(res.text)\n",
        "```\n",
        "- 이렇게 print 하면 안되고 file로 만들었어야 했는데 무턱대고 print 했다가 결과물 handling 하는데 조금 고생했음.\n",
        "    - 600kb 넘어가니 word, 한글 등이 읽지를 못함 (테블릿 기준)\n",
        "- 하지만 비용! 너무나도 비싸다\n",
        "    - 37,665초에 192,50원 (vat 포함)\n",
        "    - 나는 2시간 분량 정도만 결과를 받았는데 요금은 훨씬 많이 청구됨\n",
        "    - request 별 상세 내역이 나오지 않고 총시간과 총액만 표시된다.\n",
        "    - 이전에 request에 대해 access denied가 과금 되었는지를 고객센터에 요금 관련 문의하니 request 된 시점을 초 단위까지 알려 달라는데 그걸 어찌 기억하나요..\n",
        "- 결국 비용 문제로 다음 step으로 넘어가지 못하고 있음\n",
        "    - garbage data라도 계속 해야 하는 것일까"
      ],
      "metadata": {
        "id": "AzfbDTwR7dXE"
      }
    }
  ]
}
