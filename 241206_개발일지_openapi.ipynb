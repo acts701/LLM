{
  "nbformat": 4,
  "nbformat_minor": 0,
  "metadata": {
    "colab": {
      "provenance": [],
      "authorship_tag": "ABX9TyOi6nKF/8vvSzYrT8tIIBSo",
      "include_colab_link": true
    },
    "kernelspec": {
      "name": "python3",
      "display_name": "Python 3"
    },
    "language_info": {
      "name": "python"
    }
  },
  "cells": [
    {
      "cell_type": "markdown",
      "metadata": {
        "id": "view-in-github",
        "colab_type": "text"
      },
      "source": [
        "<a href=\"https://colab.research.google.com/github/acts701/LLM/blob/main/241206_%EA%B0%9C%EB%B0%9C%EC%9D%BC%EC%A7%80.ipynb\" target=\"_parent\"><img src=\"https://colab.research.google.com/assets/colab-badge.svg\" alt=\"Open In Colab\"/></a>"
      ]
    },
    {
      "cell_type": "markdown",
      "source": [
        "# OpenAPI\n",
        "- open api 社 api call이 잘 안된다.\n",
        "- quick start code 그대로 가져와도 err.\n",
        "```python\n",
        "from openai import OpenAI\n",
        "client = OpenAI()\n",
        "completion = client.chat.completions.create(\n",
        "    model=\"gpt-4o-mini\",\n",
        "    messages=[\n",
        "        {\"role\": \"system\", \"content\": \"You are a helpful assistant.\"},\n",
        "        {\n",
        "            \"role\": \"user\",\n",
        "            \"content\": \"Write a haiku about recursion in programming.\"\n",
        "        }\n",
        "    ]\n",
        ")\n",
        "print(completion.choices[0].message)\n",
        "```\n",
        "``` bash\n",
        "TypeError: Client.__init__() got an unexpected keyword argument 'proxies'\n",
        "```\n",
        "- 문제는 어제까지 잘 되던 코드가 parameter error를 리턴한 것.\n",
        "    - https://community.openai.com/t/typeerror-asyncclient-init-got-an-unexpected-keyword-argument-proxies/1040287\n",
        "    - Something has been changed in versions if you get this error, or it never worked for you.\n",
        "- 해결책으로 openai version을 변경하거나 project dependency file을 변경해서 해결했다는 후기들이 있는데 colab 환경이어서 그런지 먹히지 않는다.\n",
        "``` bash\n",
        "!pip install --upgrade openai==1.55.3\n",
        "!pip install httpx==0.27.2\n",
        "```\n",
        "- 마침 local build 환경이 없는데 또 만들어야 하나 ㅜㅜ\n",
        "- 노트북 사양이 낮아 가급적 설치하고 싶지 않았지만 conda 환경 만들었음\n",
        "``` python\n",
        "import os\n",
        "from openai import OpenAI\n",
        "from dotenv import load_dotenv\n",
        "load_dotenv('llmConfig.env')\n",
        "# from openai import OpenAI\n",
        "client = OpenAI(api_key=os.getenv('OPENAPI_KEY'))\n",
        "prompt = (f\"python 설치방법 알려줘\")\n",
        "\n",
        "chat_completion = client.chat.completions.create(\n",
        "    messages=[\n",
        "        {\"role\": \"system\", \"content\": \"You are an expert python env creator.\"},\n",
        "        {\"role\": \"user\", \"content\": prompt}\n",
        "    ],\n",
        "    model=\"gpt-4\",\n",
        ")\n",
        "# API 응답에서 결과 추출\n",
        "print(chat_completion.choices[0].message)\n",
        "```\n",
        "- local에서 빌드하니 한방에 해결되었다. colab에서 동일 코드 돌려도 안되는걸 봐서는 환경 설정에 issue가 있는 것 같다.\n",
        "    - 물론 runtime 여러번 다시 실행해봤음"
      ],
      "metadata": {
        "id": "Kgqi8yv86iLz"
      }
    }
  ]
}
