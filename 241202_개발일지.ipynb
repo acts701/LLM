{
  "nbformat": 4,
  "nbformat_minor": 0,
  "metadata": {
    "colab": {
      "provenance": [],
      "authorship_tag": "ABX9TyOCvEj0nB8UeMb03IxSGE6a",
      "include_colab_link": true
    },
    "kernelspec": {
      "name": "python3",
      "display_name": "Python 3"
    },
    "language_info": {
      "name": "python"
    }
  },
  "cells": [
    {
      "cell_type": "markdown",
      "metadata": {
        "id": "view-in-github",
        "colab_type": "text"
      },
      "source": [
        "<a href=\"https://colab.research.google.com/github/acts701/LLM/blob/main/241202_%EA%B0%9C%EB%B0%9C%EC%9D%BC%EC%A7%80.ipynb\" target=\"_parent\"><img src=\"https://colab.research.google.com/assets/colab-badge.svg\" alt=\"Open In Colab\"/></a>"
      ]
    },
    {
      "cell_type": "markdown",
      "source": [
        "# NLI\n",
        "- google drive 에서 input file 읽기\n",
        "- NLI data set 생성하기\n",
        "- google drive 에 gsheet로 output ( 잘 안되서 csv로 남김 )\n",
        "- chat gpt에 내용 요약해서 NLI로 50 set 만들어 달라고 하는 작업을 코드로 만든건데 잘 안됨\n",
        "    - 각 라인별로 읽어서 해당 text에 대해서 labeling을 만드는 코드를 추가하자."
      ],
      "metadata": {
        "id": "JYHwsLpmAYgo"
      }
    }
  ]
}