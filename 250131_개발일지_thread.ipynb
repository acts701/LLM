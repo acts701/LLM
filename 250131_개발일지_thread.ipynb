{
  "nbformat": 4,
  "nbformat_minor": 0,
  "metadata": {
    "colab": {
      "provenance": [],
      "authorship_tag": "ABX9TyP+d+cm4GfVeFCIskHoH/lC",
      "include_colab_link": true
    },
    "kernelspec": {
      "name": "python3",
      "display_name": "Python 3"
    },
    "language_info": {
      "name": "python"
    }
  },
  "cells": [
    {
      "cell_type": "markdown",
      "metadata": {
        "id": "view-in-github",
        "colab_type": "text"
      },
      "source": [
        "<a href=\"https://colab.research.google.com/github/acts701/LLM/blob/main/250131_%EA%B0%9C%EB%B0%9C%EC%9D%BC%EC%A7%80_thread.ipynb\" target=\"_parent\"><img src=\"https://colab.research.google.com/assets/colab-badge.svg\" alt=\"Open In Colab\"/></a>"
      ]
    },
    {
      "cell_type": "markdown",
      "source": [
        "# file 첨부\n",
        "- chat gpt에 api로 file 첨부 후 thread 생성해서 question 던지는 것은 작성함.\n",
        "```python\n",
        "    with open(file_path, \"rb\") as source_file:\n",
        "        uploaded_file = client.files.create(\n",
        "            file=source_file,\n",
        "            purpose=\"assistants\"\n",
        "        )\n",
        "    file_id = uploaded_file.id\n",
        "    print(f\"File uploaded with ID: {file_id}\")\n",
        "```\n",
        "```python\n",
        "    client.beta.threads.messages.create(\n",
        "            thread_id=thread_id,\n",
        "            role=\"user\",\n",
        "            content=user_message  \n",
        "        )\n",
        "\n",
        "        run = client.beta.threads.runs.create_and_poll(\n",
        "            thread_id=thread_id, assistant_id=assistant_id, poll_interval_ms=2000\n",
        "        )\n",
        "```\n",
        "- 다만 thread run status에서 fail을 return\n",
        "```bash\n",
        "답변: Status Not completed : Run failed with status failed\n",
        "```\n",
        "- 이유를 좀 알려주면 좋으련만 캄캄하다!\n",
        "- 참고로 colab에서 await가 먹지 않아서 nest_asyncio 라는걸 써야 하나보다.\n",
        "    - https://jonghoonpark.com/2023/05/26/google-colab%EC%97%90%EC%84%9C-playwright-%EC%82%AC%EC%9A%A9%ED%95%98%EA%B8%B0\n",
        "    - 나는 그냥 sync로 먼저 진행."
      ],
      "metadata": {
        "id": "yHHMIBA1zQw2"
      }
    }
  ]
}