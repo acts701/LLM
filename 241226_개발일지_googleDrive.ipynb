{
  "nbformat": 4,
  "nbformat_minor": 0,
  "metadata": {
    "colab": {
      "provenance": [],
      "authorship_tag": "ABX9TyPelfAQFmoG9pk2TKKwZlz5",
      "include_colab_link": true
    },
    "kernelspec": {
      "name": "python3",
      "display_name": "Python 3"
    },
    "language_info": {
      "name": "python"
    }
  },
  "cells": [
    {
      "cell_type": "markdown",
      "metadata": {
        "id": "view-in-github",
        "colab_type": "text"
      },
      "source": [
        "<a href=\"https://colab.research.google.com/github/acts701/LLM/blob/main/241226_%EA%B0%9C%EB%B0%9C%EC%9D%BC%EC%A7%80.ipynb\" target=\"_parent\"><img src=\"https://colab.research.google.com/assets/colab-badge.svg\" alt=\"Open In Colab\"/></a>"
      ]
    },
    {
      "cell_type": "markdown",
      "source": [
        "# Google Drive\n",
        "- Routine tasks like \"Opening Google Drive\" should be made reusable to save time.\n",
        "- So far, I've relied on folder IDs instead of folder names, which involves manually checking and copying the folder ID every time.\n",
        "    - Example: https://drive.google.com/drive/folders/1-d0gerO4FkKdJY3OV8wQWPEJEBepLceE\n",
        "    - I copied the hash code from the folder link and pasted it into the code manually.\n",
        "    ``` python\n",
        "    folder_id = '1-d0gerO4FkKdJY3OV8wQWPEJEBepLceE' # voiceToText>openAiWhisper\n",
        "    # Fetch files from the folder\n",
        "    response = drive_service.files().list(\n",
        "        q=f\"'{folder_id}' in parents and mimeType != 'application/vnd.google-apps.folder'\",\n",
        "        spaces='drive',\n",
        "        pageSize=1000,\n",
        "        fields='files(id, name)'\n",
        "    ).execute()\n",
        "    ```\n",
        "- I want to eliminate these tedious steps. Instead, I want to use folder names directly.\n",
        "    - wrong\n",
        "    ``` python\n",
        "    # Mount Google Drive\n",
        "    drive.mount('/content/drive/LLM/Data/NLI-Input')    \n",
        "    ```\n",
        "    - good\n",
        "    ``` python\n",
        "    # Mount Google Drive\n",
        "    drive.mount('/content/drive')\n",
        "    # Path to the folder (replace this with your folder path)\n",
        "    folder_path = 'LLM/Data/NLI-Input'\n",
        "    ```\n",
        "- Incorrect results often make me question whether I’ve entered the folder name wrong, even when the name is correct.\n",
        "- Chat teacher: The Google Drive API requires just the folder name, not the entire path. To use it effectively, you need to break down the folder path into individual components and locate each folder step by step.\n",
        "    ``` shell\n",
        "    No folder found with the name: /content/drive/My Drive/yourFolderName/\n",
        "    ```"
      ],
      "metadata": {
        "id": "lUK61FpiUlpv"
      }
    }
  ]
}
