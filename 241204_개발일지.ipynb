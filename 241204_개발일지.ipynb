{
  "nbformat": 4,
  "nbformat_minor": 0,
  "metadata": {
    "colab": {
      "provenance": [],
      "authorship_tag": "ABX9TyPsHOBEw6A7r4tArJRoeeUL",
      "include_colab_link": true
    },
    "kernelspec": {
      "name": "python3",
      "display_name": "Python 3"
    },
    "language_info": {
      "name": "python"
    }
  },
  "cells": [
    {
      "cell_type": "markdown",
      "metadata": {
        "id": "view-in-github",
        "colab_type": "text"
      },
      "source": [
        "<a href=\"https://colab.research.google.com/github/acts701/LLM/blob/main/241204_%EA%B0%9C%EB%B0%9C%EC%9D%BC%EC%A7%80.ipynb\" target=\"_parent\"><img src=\"https://colab.research.google.com/assets/colab-badge.svg\" alt=\"Open In Colab\"/></a>"
      ]
    },
    {
      "cell_type": "markdown",
      "source": [
        "# OpenAI API\n",
        "- Text Input에서 NLI File을 자동으로 생성시키기 위해 chat gpt api를 사용했다.\n",
        "- 문제는 model인데 무슨 모델을 넣어도 오류가 발생한다.\n",
        "``` python\n",
        "models = openai.models.list()\n",
        "```\n",
        "- 이 코드로 open ai가 지원하는 모델을 모두 가져와봤다.\n",
        "    - ['dall-e-2', 'text-embedding-ada-002', 'gpt-4-1106-preview', 'gpt-4o-mini-2024-07-18', 'text-embedding-3-large', 'gpt-4o-2024-08-06', 'gpt-4o-mini', 'gpt-4o', 'babbage-002', 'gpt-4o-2024-11-20', 'gpt-4-turbo-preview', 'o1-mini', 'davinci-002', 'o1-mini-2024-09-12', 'gpt-4-0125-preview', 'whisper-1', 'dall-e-3', 'o1-preview', 'gpt-3.5-turbo-16k', 'o1-preview-2024-09-12', 'gpt-4o-2024-05-13', 'gpt-4o-realtime-preview', 'tts-1-hd-1106', 'gpt-4o-realtime-preview-2024-10-01', 'gpt-4', 'gpt-4-0613', 'gpt-3.5-turbo', 'gpt-3.5-turbo-0125', 'text-embedding-3-small', 'tts-1-hd', 'gpt-4-turbo', 'gpt-4-turbo-2024-04-09', 'gpt-3.5-turbo-1106', 'gpt-3.5-turbo-instruct', 'gpt-4o-audio-preview', 'gpt-4o-audio-preview-2024-10-01', 'tts-1', 'tts-1-1106', 'gpt-3.5-turbo-instruct-0914', 'chatgpt-4o-latest']\n",
        "- 권한이 없다느니 선택을 제대로 못했다느니, chat model이 아니라느니 다양한 에러를 리턴한다.\n",
        "```bash\n",
        "{'error': {'message': 'The model gpt-4o does not exist or you do not have access to it.', 'type': 'invalid_request_error', 'param': None, 'code': 'model_not_found'}}\n",
        "```\n",
        "```bash\n",
        "choices\n",
        "```\n",
        "- 돈을 안내서 그런가 싶어서 OpenAI site에서 결재했고 usage까지 떠있는 상태이기 때문에 사용법이나 문법 에러는 아닌듯\n",
        "    - 단순히 model 지정해서 api call 한것만으로도 0.01$ 청구됨;;;\n",
        "    - fail return 되었지만 알빠노"
      ],
      "metadata": {
        "id": "Bt5hVB3uG4VH"
      }
    }
  ]
}