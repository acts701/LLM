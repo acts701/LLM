{
  "nbformat": 4,
  "nbformat_minor": 0,
  "metadata": {
    "colab": {
      "provenance": [],
      "authorship_tag": "ABX9TyNepwBd39VzgEr/Bub1UKug",
      "include_colab_link": true
    },
    "kernelspec": {
      "name": "python3",
      "display_name": "Python 3"
    },
    "language_info": {
      "name": "python"
    }
  },
  "cells": [
    {
      "cell_type": "markdown",
      "metadata": {
        "id": "view-in-github",
        "colab_type": "text"
      },
      "source": [
        "<a href=\"https://colab.research.google.com/github/acts701/LLM/blob/main/250124_%EA%B0%9C%EB%B0%9C%EC%9D%BC%EC%A7%80_%EC%A7%88%EB%AC%B8%ED%8C%8C%EC%9D%BC_%ED%8C%8C%EC%8B%B1.ipynb\" target=\"_parent\"><img src=\"https://colab.research.google.com/assets/colab-badge.svg\" alt=\"Open In Colab\"/></a>"
      ]
    },
    {
      "cell_type": "markdown",
      "source": [
        "# hwp 2 txt\n",
        "- STT 된 파일과 함께 각 설교의 질문 파일을 입수\n",
        "- 이 파일을 단락, 질문별로 나눠서 메타 데이터와 함께 저장\n",
        "- colab python에서 pyhwp 사용이 안됨\n",
        "    - 얼마 전 노트북 밀었어서 local 환경 (다시) setup 함\n",
        "    - 환경 설정 문제인지 알고 삽질하다가 결국 pyhwp 설치해도 import가 안되는 이슈였음;;;\n",
        "    - 아래 blog 보고 한방에 해결됨. 감사합니다 ㅜㅜ\n",
        "    - 이럴 떄는 chat gpt 보다 구글링이 훨씬 유효하다\n",
        "        > https://hyyoka-ling-nlp.tistory.com/6\n",
        "        ``` python\n",
        "        exefile = 'hwp5txt'\n",
        "        res = []\n",
        "        for root, dirs, files in os.walk(input_folder):\n",
        "            rootpath = os.path.join(os.path.abspath(input_folder), root)\n",
        "            for file in files:\n",
        "                filepath = os.path.join(rootpath, file)\n",
        "                res.append(filepath)\n",
        "            for result in res:\n",
        "                filename = result[:-4]+ \".txt\"\n",
        "                output = '--output ' + '\"' + filename + '\"'\n",
        "                result = '\"' + result + '\"'\n",
        "                print(exefile + \" \" + output + \" \" + result)\n",
        "                os.system(exefile + \" \" + output + \" \" + result)\n",
        "        ```\n",
        "- 이런 저런 조건들을 넣어서 단락별 질문 나누기 완료\n",
        "\n",
        "# 문단 나누기\n",
        "- 다양한 형식이 있음\n",
        "    - 1. 본문의 형식\n",
        "    - 2. 북이스라엘이 무너지는 모습\n",
        "    - 1.이사야의 소명(8-10)\n",
        "    - 1. “말일”에 관한 말씀(1-2a)\n",
        "    - 2. 여호와의 말씀이 나오는 산(2b-3)\n",
        "    - 1. 시온 딸들의 교만과 몰락(16-4:1)\n",
        "    - 2. 여호와의 싹(4:2-4)\n",
        "    - 2. 탐욕과 쾌락 탐닉(8,11)\n",
        "    - 2. 이사야의 탄식(11-13상)\n",
        "    - 3. 거룩의 씨(13하)\n",
        "    - 3. 어떻게 하려느냐(10:1-4)\n",
        "    - 2. 메시야의 통치(3 하-5)\n",
        "    - 1. 블레셋에 관한 경고(14:28-32)\n",
        "    - 3. 하나님의 눈물과 작정(9,11, 13-14)\n",
        "    - 2. 하나님을 앙망하라(2-4, 7-12)\n",
        "    - 3. 여호와의 말씀(22-37:7)\n",
        "- 결과\n",
        "```json\n",
        "[\n",
        "    {\n",
        "        \"section_id\": \"1\",\n",
        "        \"section_title\": \"붉은 옷을 입고 다가오는 용사\",\n",
        "        \"chapter_verse\": \"1-2\",\n",
        "        \"questions\": [\n",
        "            \"오늘 본문을 이해하기 위하여 먼저, 59:15-20을 읽어 보아야 합니다. 문맥으로 볼 때, 1절에 나온 두 번의 질문은 누가 하는 것으로 보는 게 좋겠습니까? (62:6)\",\n",
        "            \"파수꾼은 하나님을 쉬지 않게 하는 역할을 맡았습니다. 하나님은 쉬지 않고 무슨 일을 하셨는지 그에 대한 대답처럼 등장하는 본문입니다. 어디서 누가 오고 있습니까? (1상)\",\n",
        "            ....            \n",
        "        ]\n",
        "    },\n",
        "```"
      ],
      "metadata": {
        "id": "bNR_uWvzjJAv"
      }
    }
  ]
}