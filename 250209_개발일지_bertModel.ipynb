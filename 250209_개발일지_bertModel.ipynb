{
  "nbformat": 4,
  "nbformat_minor": 0,
  "metadata": {
    "colab": {
      "provenance": [],
      "authorship_tag": "ABX9TyNULlT0OoLxghH6fw3ibToY",
      "include_colab_link": true
    },
    "kernelspec": {
      "name": "python3",
      "display_name": "Python 3"
    },
    "language_info": {
      "name": "python"
    }
  },
  "cells": [
    {
      "cell_type": "markdown",
      "metadata": {
        "id": "view-in-github",
        "colab_type": "text"
      },
      "source": [
        "<a href=\"https://colab.research.google.com/github/acts701/LLM/blob/main/250209_%EA%B0%9C%EB%B0%9C%EC%9D%BC%EC%A7%80_bertModel.ipynb\" target=\"_parent\"><img src=\"https://colab.research.google.com/assets/colab-badge.svg\" alt=\"Open In Colab\"/></a>"
      ]
    },
    {
      "cell_type": "markdown",
      "source": [
        "# chat gpt에 api로 파일 upload\n",
        "- https://platform.openai.com/docs/assistants/tools/file-search#creating-vector-stores-and-adding-files\n",
        "- 이 link 보고 그대로 따라하면 되는데 며칠 삽질했다;;\n",
        "- 다만 예제의 gpt-4o 모델 그대로 사용했다가 api 요금 결제 문자를 꽤나 여러번 받았다 ;;;\n",
        "- 나중에 colab 연결 끊겼을 때 정신 차리고 3.5로 변경함\n",
        "- file을 upload 한 이유는 txt file이 하나에 8천개 정도의 단어를 가지고 있기 때문에 query로 보낼 수가 없었다.\n",
        "- upload 한 파일에서 질문을 던져 답을 얻고 이를 json 형태로 저장해 두었다.\n",
        "- 파일이 100개 정도 되다보니 며칠 걸림.. 중간에 session 끊기기도 하고\n",
        "\n",
        "# BERT\n",
        "- 문제는 이렇게 source와 QnA data set을 만들어두면 model 만드는 것이 쉬울 것 같았는데 그게 아니었음\n",
        "- 즉 이런 식으로 labeling된 데이터를 주고 학습을 시키면 model이 만들어지는지 알았는데 이론 공부가 너무 부족했나보다.\n",
        "    - chat gpt에게 답을 물어봐서 적어뒀는데 bert는 chat gpt가 생성하는거 말고 정확히 text가 일치하는 answer가 있어야 한단다.\n",
        "    - 이 부분이 가장 이해가 되지 않음.\n",
        "- 현재까지 이해한 결론은 아래와 같다.\n",
        "    - 추출형(Extractive) QA\n",
        "        - BERT처럼 “원문 일부를 그대로 발췌”해야 하므로, 정답과 원문 substring이 정확히 일치해야 합니다.\n",
        "    - 생성형(Generative) LLM\n",
        "        - GPT나 Llama 등의 대부분 모델은 “(질문) → (새로운 텍스트 생성)” 방식이므로, 원문 텍스트와 정확히 일치시킬 필요가 없습니다.\n",
        "- 내가 만들려는 모델은 정확한 답변이 필요하기 때문에 bert가 맞다. 다만 저렇게까지 정확히 일치시켜야 한다는게 잘 이해가 되지 않는다.\n",
        "    - 그러면 text searching 과 뭐가 다른거지?\n",
        "- chat gpt api에 쓴 돈이 아깝지만 다시 정확한 source를 알아낼 수도 있다.\n",
        "- 하지만 이참에 이론 공부를 정확히 하고 넘어가자"
      ],
      "metadata": {
        "id": "8whOESxfFG9K"
      }
    }
  ]
}