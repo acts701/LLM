{
  "nbformat": 4,
  "nbformat_minor": 0,
  "metadata": {
    "colab": {
      "provenance": [],
      "authorship_tag": "ABX9TyOgvaPbToiNcnWUrl33P6M4",
      "include_colab_link": true
    },
    "kernelspec": {
      "name": "python3",
      "display_name": "Python 3"
    },
    "language_info": {
      "name": "python"
    }
  },
  "cells": [
    {
      "cell_type": "markdown",
      "metadata": {
        "id": "view-in-github",
        "colab_type": "text"
      },
      "source": [
        "<a href=\"https://colab.research.google.com/github/acts701/LLM/blob/main/241211_%EA%B0%9C%EB%B0%9C%EC%9D%BC%EC%A7%80.ipynb\" target=\"_parent\"><img src=\"https://colab.research.google.com/assets/colab-badge.svg\" alt=\"Open In Colab\"/></a>"
      ]
    },
    {
      "cell_type": "markdown",
      "source": [
        "# STT 인식 품질 문제\n",
        "- 무료인 openai의 whisper는 영어는 잘 되는지 몰라도 한국어 인식은 교정이 필요하다.\n",
        "- PyKoSpacing, naver SpellerProxy, py-hanspell 등으로 시도해 봤지만 처음부터 오류가 있는 text를 원하는 기대수준으로 만들기는 어렵다.\n",
        "- 그럼에도 무료 api를 이용해서 어떻게든 학습을 시킬것인가? 유료 contents를 사용할 것인가? 이 경우 수백만원 지출이 보장됨...\n",
        "    - 현실적으로 무료로 가야지 어떻하겠음;\n",
        "\n",
        "# Generate NLI Data set\n",
        "- text를 서론, 첫 번째, 두 번째, 세 번째 이렇게 단락으로 나누게 parsing 함\n",
        "- 각 단락으로 나뉘어진 text를 chat gpt에게 NLI data set으로 만들어 달라고 함\n",
        "- 만들어지기는 했는데 결과가 영 엉망임.\n",
        "- 예시\n",
        "    - Premise : 본모는 장면을 보여주고 어떻게 살아야 하는지 물어보고 있다.\n",
        "    - Hypothesis : 인간은 자기 자신을 믿어야 하며 인생은 인간이 만든 것이므로 인간을 믿어야 한다.\n",
        "    - Label : Entailment\n",
        "- 하지만 그것보다 더 문제는 역시나 garbage in garbage out"
      ],
      "metadata": {
        "id": "0XIGHNhqk5m_"
      }
    }
  ]
}