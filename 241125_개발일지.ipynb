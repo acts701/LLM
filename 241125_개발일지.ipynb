{
  "nbformat": 4,
  "nbformat_minor": 0,
  "metadata": {
    "colab": {
      "provenance": [],
      "authorship_tag": "ABX9TyOKuvY+LCNPC0NHwfYmis1A",
      "include_colab_link": true
    },
    "kernelspec": {
      "name": "python3",
      "display_name": "Python 3"
    },
    "language_info": {
      "name": "python"
    }
  },
  "cells": [
    {
      "cell_type": "markdown",
      "metadata": {
        "id": "view-in-github",
        "colab_type": "text"
      },
      "source": [
        "<a href=\"https://colab.research.google.com/github/acts701/LLM/blob/main/241125_%EA%B0%9C%EB%B0%9C%EC%9D%BC%EC%A7%80.ipynb\" target=\"_parent\"><img src=\"https://colab.research.google.com/assets/colab-badge.svg\" alt=\"Open In Colab\"/></a>"
      ]
    },
    {
      "cell_type": "markdown",
      "source": [
        "# Naver STT\n",
        "- naver에서 제공하는 Clova STT를 사용해 보았다.\n",
        "- https://api.ncloud-docs.com/docs/ai-naver-clovaspeechrecognition-stt-api-example\n",
        "- 결과는 60초 제한이 있어서 430 return  \n",
        "''' bash\n",
        "Error : {\"error\":{\"errorCode\":\"430\",\"message\":\"Request Entity Too Large\"}}\n",
        "'''\n",
        "- mp3 file을 네이버 cloud storage고에 올리고 Clova Speech > Domain에서 빌더로 실행하면 인식이 되고 json으로 결과가 저장되는 형식이다.\n",
        "- google cloud speech 와 비교했을 때 아무래도 한국 기업이다 보니 더 정확한 것 같다.\n",
        "- 아래는 간단한 비교\n",
        "    - |Google          |Naver          |\n",
        "      |------------------|------------------|\n",
        "      |목살로서|목사로서|\n",
        "      |배반하면라 칼의 삶 튀우리|배반하면 칼에 삼키우리라|\n",
        "      |본성했던|번성했던|\n",
        "      |이제부터 등장 및 졌다|예부터 등잔이 저없다|\n",
        "- Google Speech도 잘 인식하지만 Naver가 아마 맞춤법 검사가 들어가는 느낌이라 결과가 더욱 좋음"
      ],
      "metadata": {
        "id": "0sNPlnLmiXln"
      }
    }
  ]
}