{
  "nbformat": 4,
  "nbformat_minor": 0,
  "metadata": {
    "colab": {
      "provenance": [],
      "authorship_tag": "ABX9TyNF5rUh59qyWpfByCG8K/Zu",
      "include_colab_link": true
    },
    "kernelspec": {
      "name": "python3",
      "display_name": "Python 3"
    },
    "language_info": {
      "name": "python"
    }
  },
  "cells": [
    {
      "cell_type": "markdown",
      "metadata": {
        "id": "view-in-github",
        "colab_type": "text"
      },
      "source": [
        "<a href=\"https://colab.research.google.com/github/acts701/LLM/blob/main/241123_%EA%B0%9C%EB%B0%9C%EC%9D%BC%EC%A7%80.ipynb\" target=\"_parent\"><img src=\"https://colab.research.google.com/assets/colab-badge.svg\" alt=\"Open In Colab\"/></a>"
      ]
    },
    {
      "cell_type": "markdown",
      "source": [
        "# 전처리\n",
        "## input 문장 길이 계산\n",
        "- 한글 text를 문장으로 단위로 나눠야 한다.\n",
        "- 전체를 읽어서 kss library로 나눠서 하나의 문장 길이를 확인했다.\n",
        "- 결과를 보니 문장 길이는 150이 적당하다. (아래는 chat 선생)\n",
        "> 1. 최고 길이가 큰 경우\n",
        "일부 파일에서 최고 문장 길이가 매우 길게 나오며, 최대 488자에 달하는 문장도 있습니다. 그러나 이는 특정 문장의 길이일 뿐, 평균적으로는 매우 드문 사례입니다. 너무 긴 문장을 그대로 사용하면 모델의 메모리와 학습 효율에 영향을 미칠 수 있습니다.\n",
        "> 2. 평균 및 중간값 중심의 길이 설정\n",
        "대부분 파일의 평균 문장 길이는 약 30~40자 사이에 있으며, 중간값도 유사한 범위에 있습니다.\n",
        "이는 문장 길이를 최대 128자 정도로 설정해도 대부분의 문장을 커버할 수 있음을 의미합니다.\n",
        "> 3. 효율적인 학습을 위한 길이 설정\n",
        "대부분의 문장이 포함될 수 있도록 적절한 max_length를 설정하는 것이 중요합니다.\n",
        "한국어 모델의 경우, 128자 정도가 좋은 기준이 될 수 있습니다. 그러나 이보다 약간 긴 문장도 포함할 수 있도록 최대 길이를 150자 또는 200자로 설정하는 것이 좋습니다.\n",
        "권장 설정\n",
        "max_length=150 또는 max_length=200으로 설정하는 것을 추천드립니다.\n",
        "이 값은 평균과 중간값을 충분히 커버하며, 일부 긴 문장도 학습에 포함할 수 있는 적절한 길이입니다.\n",
        "max_length=150이 메모리와 성능 측면에서 가장 효율적일 것입니다.\n",
        "\n",
        "## DB\n",
        "- vector db(Pinecone)를 사용하자.\n",
        "- vector json file을 먼저 만들었따.\n",
        "- index 생성하고 region, dimenstion 등 맞춰보다가 늦어서 실행 안되는 상태로 일단 commit"
      ],
      "metadata": {
        "id": "-Gh3Cnu9y2ib"
      }
    }
  ]
}