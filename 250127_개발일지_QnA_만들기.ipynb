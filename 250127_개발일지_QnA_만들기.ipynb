{
  "nbformat": 4,
  "nbformat_minor": 0,
  "metadata": {
    "colab": {
      "provenance": [],
      "authorship_tag": "ABX9TyN1eEgurYfffP85rckxAc9Y",
      "include_colab_link": true
    },
    "kernelspec": {
      "name": "python3",
      "display_name": "Python 3"
    },
    "language_info": {
      "name": "python"
    }
  },
  "cells": [
    {
      "cell_type": "markdown",
      "metadata": {
        "id": "view-in-github",
        "colab_type": "text"
      },
      "source": [
        "<a href=\"https://colab.research.google.com/github/acts701/LLM/blob/main/250127_%EA%B0%9C%EB%B0%9C%EC%9D%BC%EC%A7%80_QnA_%EB%A7%8C%EB%93%A4%EA%B8%B0.ipynb\" target=\"_parent\"><img src=\"https://colab.research.google.com/assets/colab-badge.svg\" alt=\"Open In Colab\"/></a>"
      ]
    },
    {
      "cell_type": "markdown",
      "source": [
        "# Answers\n",
        "- 질문과 정답 data set을 만들려고 한다.\n",
        "- 파일 하나에 질문이 30~40개씩 있기 떄문에 모든 것을 수작업으로 할 수 없다.\n",
        "- gpt에 원문 파일을 첨부하고 질문을 하나씩 던지면 답을 잘 주는 것 같다.\n",
        "- 하지만 이걸 자동화 해보려고 하는 시도를 하고 있는데 쉽지 않다.\n",
        "    - 3,000 자가 max이기 때문에 prompt로 보낼 수 없다.\n",
        "- api로 file 첨부를 시도.\n",
        "    - https://m.blog.naver.com/chgy2131/223314666597\n",
        "    - 고마운 분들이 이렇게나 많다."
      ],
      "metadata": {
        "id": "yQEHSQfGOVKy"
      }
    }
  ]
}