{
  "nbformat": 4,
  "nbformat_minor": 0,
  "metadata": {
    "colab": {
      "provenance": [],
      "authorship_tag": "ABX9TyOpb7Q2+C6PTRX01hbDbfs6",
      "include_colab_link": true
    },
    "kernelspec": {
      "name": "python3",
      "display_name": "Python 3"
    },
    "language_info": {
      "name": "python"
    }
  },
  "cells": [
    {
      "cell_type": "markdown",
      "metadata": {
        "id": "view-in-github",
        "colab_type": "text"
      },
      "source": [
        "<a href=\"https://colab.research.google.com/github/acts701/LLM/blob/main/241129_Development%20Log.ipynb\" target=\"_parent\"><img src=\"https://colab.research.google.com/assets/colab-badge.svg\" alt=\"Open In Colab\"/></a>"
      ]
    },
    {
      "cell_type": "markdown",
      "source": [
        "# Paid\n",
        "- Payday comes every 29th. After making the payment, the computing balance was reset to 100.\n",
        "- Thankfully, I managed to bring the balance down to zero just before payday.\n",
        "- The performance of the free APIs didn’t meet my expectations.\n",
        "    - I’ve been using free APIs like Sentence Transformer and Whisper.\n",
        "    - Of course, there’s always the risk of misusing them due to my own mistakes.\n",
        "    - That said, every step in the process—STT, embedding, and index search—requires payment, and I can’t afford to cover all the costs.\n",
        "- Here are a few examples of the queries I’ve been working with.\n",
        "\n",
        "\n",
        "> 입력 질문: 이사야서 서론의 내용유사한 문장 Top 5:\n",
        "1. 유사도: 0.9830 | 문장: 유럽을 세우신 자식이요\n",
        "2. 유사도: 0.9825 | 문장: 칠자라의 시원산으로 온다는 것이죠.\n",
        "3. 유사도: 0.9823 | 문장: 찬소년 옷으로 끊으신 분을 대신하시고요.\n",
        "4. 유사도: 0.9823 | 문장: 하루만 입으로 쳐보세요.\n",
        "5. 유사도: 0.9823 | 문장: 하루만 입으로 쳐보세요."
      ],
      "metadata": {
        "id": "AnXaWBv8oQo_"
      }
    },
    {
      "cell_type": "code",
      "source": [],
      "metadata": {
        "id": "kQnAm2GtphmJ"
      },
      "execution_count": null,
      "outputs": []
    }
  ]
}