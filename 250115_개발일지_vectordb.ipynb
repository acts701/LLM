{
  "nbformat": 4,
  "nbformat_minor": 0,
  "metadata": {
    "colab": {
      "provenance": [],
      "authorship_tag": "ABX9TyOkVQCyCygo6u0BvN2SjMS0",
      "include_colab_link": true
    },
    "kernelspec": {
      "name": "python3",
      "display_name": "Python 3"
    },
    "language_info": {
      "name": "python"
    }
  },
  "cells": [
    {
      "cell_type": "markdown",
      "metadata": {
        "id": "view-in-github",
        "colab_type": "text"
      },
      "source": [
        "<a href=\"https://colab.research.google.com/github/acts701/LLM/blob/main/250115_%EA%B0%9C%EB%B0%9C%EC%9D%BC%EC%A7%80_vectordb.ipynb\" target=\"_parent\"><img src=\"https://colab.research.google.com/assets/colab-badge.svg\" alt=\"Open In Colab\"/></a>"
      ]
    },
    {
      "cell_type": "markdown",
      "source": [
        "# vector db\n",
        "- 새해를 맞아 clean data를 돈주고 확보하기 시작했다.\n",
        "- mp3 하나 STT 하는데 1500원 정도 지불 중\n",
        "- 우선은 3개를 해두고 vector db에서 잘 되는지 보고 있다.\n",
        "- all-roberta-large-v1를 사용했더니 결과가 나오지 않는다.\n",
        "```bash\n",
        "query_text = \"삼권 분립\"\n",
        "검색 결과:\n",
        "Score: 0.912434459, Text: 장소를 알아요.\n",
        "Score: 0.912434459, Text: 장소를 알아요.\n",
        "Score: 0.908387244, Text: 그게 구원파라는 거예요.\n",
        "```    \n",
        "- klue/roberta-large도 동일\n",
        "```bash\n",
        "query_text = \"삼권 분립\"\n",
        "검색 결과:\n",
        "Score: 0.938515186, Text: 손을 돌려\n",
        "Score: 0.938515186, Text: 손을 돌려\n",
        "Score: 0.937309325, Text: 산 오름\n",
        "```\n",
        "- 혹시 한글이어서 안되는 것일까?\n",
        "    - 참고로 pinecone은 한글 vector file 이름도 인식하지 못하고 error return 된다.\n",
        "- googletrans\n",
        "    - 오류가 많이 발생함\n",
        "    ``` bash\n",
        "    'Translator' object has no attribute 'raise_Exception'\n",
        "    ```\n",
        "- 역시나 또 과금이 들어가는 openai api를 사용하자\n",
        "    - 한문장씩 query를 날리다보니 시간이 많이 걸린다.\n",
        "    - 돈은 얼마나 청구될까 ㅜㅜ\n"
      ],
      "metadata": {
        "id": "O3Nr0jT2MN2C"
      }
    }
  ]
}